{
  "nbformat": 4,
  "nbformat_minor": 0,
  "metadata": {
    "anaconda-cloud": {},
    "kernelspec": {
      "display_name": "Python 3",
      "language": "python",
      "name": "python3"
    },
    "language_info": {
      "codemirror_mode": {
        "name": "ipython",
        "version": 3
      },
      "file_extension": ".py",
      "mimetype": "text/x-python",
      "name": "python",
      "nbconvert_exporter": "python",
      "pygments_lexer": "ipython3",
      "version": "3.6.6"
    },
    "colab": {
      "provenance": [],
      "include_colab_link": true
    },
    "accelerator": "GPU"
  },
  "cells": [
    {
      "cell_type": "markdown",
      "metadata": {
        "id": "view-in-github",
        "colab_type": "text"
      },
      "source": [
        "<a href=\"https://colab.research.google.com/github/wolffg7/deeplearning1/blob/main/06_AIT_CNN_CIFAR10_exercise.ipynb\" target=\"_parent\"><img src=\"https://colab.research.google.com/assets/colab-badge.svg\" alt=\"Open In Colab\"/></a>"
      ]
    },
    {
      "cell_type": "markdown",
      "metadata": {
        "id": "cW-EyI5Lxpqi"
      },
      "source": [
        "# Copyright\n",
        "\n",
        "<PRE>\n",
        "Copyright (c) 2023 Bálint Gyires-Tóth - All Rights Reserved\n",
        "You may use and modify this code for research and development purpuses.\n",
        "Using this code for educational purposes (self-paced or instructor led) without the permission of the author is prohibited.\n",
        "</PRE>"
      ]
    },
    {
      "cell_type": "markdown",
      "source": [
        "# Convolutional Neural Network exercise\n",
        "\n",
        "In this notebook, you will build a convolutional neural network, which offers superior results over the previous MLP solution. Additionally, you will perform a more detailed evaluation.  "
      ],
      "metadata": {
        "id": "3EX4cCa4WKJu"
      }
    },
    {
      "cell_type": "code",
      "source": [
        "# imports \n",
        "from tensorflow.keras.datasets import cifar10\n",
        "from tensorflow.keras.utils import to_categorical\n",
        "import numpy as np\n",
        "import matplotlib.pyplot as plt\n",
        "from tensorflow.keras.models import Sequential\n",
        "from tensorflow.keras.layers import Dense, Conv2D, MaxPool2D, Flatten, Dropout, BatchNormalization\n",
        "from tensorflow.keras.initializers import HeNormal\n",
        "from tensorflow.keras.callbacks import EarlyStopping"
      ],
      "metadata": {
        "id": "GdCMhy4HA2qd"
      },
      "execution_count": 1,
      "outputs": []
    },
    {
      "cell_type": "markdown",
      "source": [
        "# 1. Data\n",
        "The dataset we will use is the well-known CIFAR10 (Canadian Institute For Advanced Research). Explore the details on the Keras website first: https://keras.io/api/datasets/cifar10/\n",
        "\n",
        "There isn't much difference between the data preprocessing part and the one we did before. The only difference is that we don't have to reshape images into vectors, but we are working with a 4 dimensional data structure, where the dimensions are: batch, X, Y, and color channels. \n",
        "\n",
        "In the event that anything is not clear regarding the data preparation part, please check the previous CIFAR10 notebook."
      ],
      "metadata": {
        "id": "yY9fztIeWIKt"
      }
    },
    {
      "cell_type": "code",
      "source": [
        "(X_train, Y_train), (X_test, Y_test) = cifar10.load_data()"
      ],
      "metadata": {
        "id": "bez7q0eiWQCK"
      },
      "execution_count": 2,
      "outputs": []
    },
    {
      "cell_type": "code",
      "source": [
        "# it is in int8 format, the neural network requires float32\n",
        "X_train = X_train.astype(\"float32\")\n",
        "X_test = X_test.astype(\"float32\")"
      ],
      "metadata": {
        "id": "vukOcBM0XzSj"
      },
      "execution_count": 3,
      "outputs": []
    },
    {
      "cell_type": "code",
      "source": [
        "train_ratio  = 0.8\n",
        "train_length = X_train.shape[0]\n",
        "train_split  = int(train_ratio*train_length)\n",
        "X_valid, Y_valid = X_train[train_split:], Y_train[train_split:]\n",
        "X_train, Y_train = X_train[:train_split], Y_train[:train_split]"
      ],
      "metadata": {
        "id": "mRwuWxxIxLgN"
      },
      "execution_count": 4,
      "outputs": []
    },
    {
      "cell_type": "code",
      "source": [
        "mean = X_train.mean(axis=0)\n",
        "std  = X_train.std(axis=0)\n",
        "\n",
        "X_train = (X_train-mean)/std\n",
        "X_valid = (X_valid-mean)/std\n",
        "X_test  = (X_test-mean)/std"
      ],
      "metadata": {
        "id": "2ESLP1EIyB2J"
      },
      "execution_count": 5,
      "outputs": []
    },
    {
      "cell_type": "markdown",
      "source": [],
      "metadata": {
        "id": "pQGiUBzpqxfW"
      }
    },
    {
      "cell_type": "code",
      "source": [
        "nb_classes = len(np.unique(Y_train))\n",
        "Y_train = to_categorical(Y_train, nb_classes)\n",
        "Y_valid = to_categorical(Y_valid, nb_classes)\n",
        "Y_test  = to_categorical(Y_test, nb_classes)"
      ],
      "metadata": {
        "id": "xwZ4OJ6I8lba"
      },
      "execution_count": 6,
      "outputs": []
    },
    {
      "cell_type": "code",
      "source": [
        "print(\"Shapes of the training, validation and test input data:\", X_train.shape, X_valid.shape, X_test.shape)\n",
        "print(\"Shapes of the training, validation and test output data:\", Y_train.shape, Y_valid.shape, Y_test.shape)\n",
        "print(\"Mean values of the training, validation and test input data:\", X_train.mean(), X_valid.mean(), X_test.mean())\n",
        "print(\"Standard deviation of the training, validation and test input data:\", X_train.std(), X_valid.std(), X_test.std())"
      ],
      "metadata": {
        "id": "O_jdJVcvX0vi",
        "colab": {
          "base_uri": "https://localhost:8080/"
        },
        "outputId": "bd969d22-c0f6-4977-d748-04e6e8550cb6"
      },
      "execution_count": 7,
      "outputs": [
        {
          "output_type": "stream",
          "name": "stdout",
          "text": [
            "Shapes of the training, validation and test input data: (40000, 32, 32, 3) (10000, 32, 32, 3) (10000, 32, 32, 3)\n",
            "Shapes of the training, validation and test output data: (40000, 10) (10000, 10) (10000, 10)\n",
            "Mean values of the training, validation and test input data: 2.2788842e-09 0.0023437198 0.013331206\n",
            "Standard deviation of the training, validation and test input data: 1.0000023 0.9965626 0.99783075\n"
          ]
        }
      ]
    },
    {
      "cell_type": "markdown",
      "metadata": {
        "id": "cJ14oyZExpqj"
      },
      "source": [
        "# 2. Exercise: training"
      ]
    },
    {
      "cell_type": "markdown",
      "source": [
        "Create and train a convolutional neural network with the following requirements:\n",
        "* apply early stopping with patience=5 and monitor the validation accuracy, don't forget to load back the best weights after early stopping\n",
        "* the number of trainable parameters is lower than 200.000\n",
        "* the validation accuracy must be higher than 72%\n",
        "\n",
        "Hints:\n",
        "* you can always inspect the number of trainable parameters per layer with model.summary()\n",
        "* usually the most trainable parameters are between the last convolutional layer and the next dense layer -- so you should have a reasonable output size at the last convolutional layer\n",
        "* regularization helps (e.g. DropOut and/or BatchNormalization)\n",
        "* use the right activation function at the output layer and the corresponding loss function\n",
        "* for the chosen activation functions, please use the appropriate initialization method\n",
        "* you can match the dimension of the last conv/pooling layer to the next dense layer with e.g. Flatten()\n",
        "* ADAM optimizer is a reasonable choice \n",
        "* don't forget to turn on GPU support in Colab, otherwise, it would be quite slow to train the networks\n",
        "\n"
      ],
      "metadata": {
        "id": "j1tGVPdD-pp3"
      }
    },
    {
      "cell_type": "code",
      "source": [
        "es = EarlyStopping(monitor='val_accuracy', patience=5, restore_best_weights=True,) # early stopping"
      ],
      "metadata": {
        "id": "5dBQxJHIHrbd"
      },
      "execution_count": 8,
      "outputs": []
    },
    {
      "cell_type": "code",
      "source": [
        "# model definition\n",
        "model = Sequential() \n",
        "\n",
        "model.add(Conv2D(32, (3, 3), activation='relu', kernel_initializer='he_normal', input_shape=(32, 32, 3)))\n",
        "model.add(Dense(32, activation='relu', kernel_initializer='he_uniform'))\n",
        "model.add(MaxPool2D((2, 2)))\n",
        "model.add(BatchNormalization())\n",
        "model.add(Dropout(rate = 0.2))\n",
        "\n",
        "model.add(Conv2D(64, (3, 3), activation='relu', kernel_initializer='he_normal', padding='same'))\n",
        "model.add(Dense(64, activation='relu', kernel_initializer='he_uniform'))\n",
        "model.add(MaxPool2D((2, 2)))\n",
        "model.add(BatchNormalization())\n",
        "model.add(Dropout(rate = 0.2))\n",
        "\n",
        "model.add(Conv2D(32, (3, 3), activation='relu', kernel_initializer='he_normal', padding='same', input_shape=(32, 32, 3)))\n",
        "model.add(Dense(32, activation='relu', kernel_initializer='he_uniform'))\n",
        "model.add(MaxPool2D((2, 2)))\n",
        "model.add(BatchNormalization())\n",
        "model.add(Dropout(rate = 0.2))\n",
        "\n",
        "model.add(Flatten())\n",
        "model.add(Dense(128, activation='relu', kernel_initializer='he_uniform'))\n",
        "model.add(Dropout(rate = 0.4))\n",
        "\n",
        "model.add(Dense(10, activation='softmax'))\n",
        "\n",
        "model.compile(loss='categorical_crossentropy', optimizer='adam', metrics=['accuracy'])"
      ],
      "metadata": {
        "id": "PuxHOqLt-3Nd"
      },
      "execution_count": 9,
      "outputs": []
    },
    {
      "cell_type": "code",
      "source": [
        "model.summary()"
      ],
      "metadata": {
        "id": "5eomQw8uE9Ix",
        "outputId": "d5714035-b449-4f5d-ba5f-bb428b679626",
        "colab": {
          "base_uri": "https://localhost:8080/"
        }
      },
      "execution_count": 10,
      "outputs": [
        {
          "output_type": "stream",
          "name": "stdout",
          "text": [
            "Model: \"sequential\"\n",
            "_________________________________________________________________\n",
            " Layer (type)                Output Shape              Param #   \n",
            "=================================================================\n",
            " conv2d (Conv2D)             (None, 30, 30, 32)        896       \n",
            "                                                                 \n",
            " dense (Dense)               (None, 30, 30, 32)        1056      \n",
            "                                                                 \n",
            " max_pooling2d (MaxPooling2D  (None, 15, 15, 32)       0         \n",
            " )                                                               \n",
            "                                                                 \n",
            " batch_normalization (BatchN  (None, 15, 15, 32)       128       \n",
            " ormalization)                                                   \n",
            "                                                                 \n",
            " dropout (Dropout)           (None, 15, 15, 32)        0         \n",
            "                                                                 \n",
            " conv2d_1 (Conv2D)           (None, 15, 15, 64)        18496     \n",
            "                                                                 \n",
            " dense_1 (Dense)             (None, 15, 15, 64)        4160      \n",
            "                                                                 \n",
            " max_pooling2d_1 (MaxPooling  (None, 7, 7, 64)         0         \n",
            " 2D)                                                             \n",
            "                                                                 \n",
            " batch_normalization_1 (Batc  (None, 7, 7, 64)         256       \n",
            " hNormalization)                                                 \n",
            "                                                                 \n",
            " dropout_1 (Dropout)         (None, 7, 7, 64)          0         \n",
            "                                                                 \n",
            " conv2d_2 (Conv2D)           (None, 7, 7, 32)          18464     \n",
            "                                                                 \n",
            " dense_2 (Dense)             (None, 7, 7, 32)          1056      \n",
            "                                                                 \n",
            " max_pooling2d_2 (MaxPooling  (None, 3, 3, 32)         0         \n",
            " 2D)                                                             \n",
            "                                                                 \n",
            " batch_normalization_2 (Batc  (None, 3, 3, 32)         128       \n",
            " hNormalization)                                                 \n",
            "                                                                 \n",
            " dropout_2 (Dropout)         (None, 3, 3, 32)          0         \n",
            "                                                                 \n",
            " flatten (Flatten)           (None, 288)               0         \n",
            "                                                                 \n",
            " dense_3 (Dense)             (None, 128)               36992     \n",
            "                                                                 \n",
            " dropout_3 (Dropout)         (None, 128)               0         \n",
            "                                                                 \n",
            " dense_4 (Dense)             (None, 10)                1290      \n",
            "                                                                 \n",
            "=================================================================\n",
            "Total params: 82,922\n",
            "Trainable params: 82,666\n",
            "Non-trainable params: 256\n",
            "_________________________________________________________________\n"
          ]
        }
      ]
    },
    {
      "cell_type": "markdown",
      "source": [
        "Please, check the number of trainable paramers:"
      ],
      "metadata": {
        "id": "8tIbIIeTEI41"
      }
    },
    {
      "cell_type": "code",
      "source": [
        "print(\"#trainable parameters:\",model.count_params())"
      ],
      "metadata": {
        "id": "xdBAG7EJETlX",
        "outputId": "5303f237-b702-4771-b045-45f477d31feb",
        "colab": {
          "base_uri": "https://localhost:8080/"
        }
      },
      "execution_count": 11,
      "outputs": [
        {
          "output_type": "stream",
          "name": "stdout",
          "text": [
            "#trainable parameters: 82922\n"
          ]
        }
      ]
    },
    {
      "cell_type": "code",
      "source": [
        "# training\n",
        "network_history = model.fit(X_train, Y_train, \n",
        "                            validation_data=(X_valid,Y_valid),\n",
        "                            batch_size=128,                             \n",
        "                            epochs=40, \n",
        "                            verbose=1, \n",
        "                            callbacks=[es])"
      ],
      "metadata": {
        "id": "u8tFNCNVHyt9",
        "outputId": "84512f78-a0ed-4983-885f-e05591d64069",
        "colab": {
          "base_uri": "https://localhost:8080/"
        }
      },
      "execution_count": 12,
      "outputs": [
        {
          "output_type": "stream",
          "name": "stdout",
          "text": [
            "Epoch 1/40\n",
            "313/313 [==============================] - 17s 17ms/step - loss: 1.9803 - accuracy: 0.3133 - val_loss: 1.5326 - val_accuracy: 0.4305\n",
            "Epoch 2/40\n",
            "313/313 [==============================] - 4s 13ms/step - loss: 1.5094 - accuracy: 0.4481 - val_loss: 1.3178 - val_accuracy: 0.5247\n",
            "Epoch 3/40\n",
            "313/313 [==============================] - 4s 14ms/step - loss: 1.3582 - accuracy: 0.5066 - val_loss: 1.2175 - val_accuracy: 0.5628\n",
            "Epoch 4/40\n",
            "313/313 [==============================] - 4s 13ms/step - loss: 1.2515 - accuracy: 0.5500 - val_loss: 1.1776 - val_accuracy: 0.5793\n",
            "Epoch 5/40\n",
            "313/313 [==============================] - 4s 13ms/step - loss: 1.1707 - accuracy: 0.5825 - val_loss: 1.0790 - val_accuracy: 0.6148\n",
            "Epoch 6/40\n",
            "313/313 [==============================] - 4s 14ms/step - loss: 1.0990 - accuracy: 0.6053 - val_loss: 0.9972 - val_accuracy: 0.6421\n",
            "Epoch 7/40\n",
            "313/313 [==============================] - 4s 13ms/step - loss: 1.0466 - accuracy: 0.6274 - val_loss: 0.9580 - val_accuracy: 0.6551\n",
            "Epoch 8/40\n",
            "313/313 [==============================] - 4s 13ms/step - loss: 0.9936 - accuracy: 0.6485 - val_loss: 0.8892 - val_accuracy: 0.6826\n",
            "Epoch 9/40\n",
            "313/313 [==============================] - 4s 14ms/step - loss: 0.9558 - accuracy: 0.6613 - val_loss: 0.8936 - val_accuracy: 0.6836\n",
            "Epoch 10/40\n",
            "313/313 [==============================] - 4s 13ms/step - loss: 0.9137 - accuracy: 0.6752 - val_loss: 0.8459 - val_accuracy: 0.6981\n",
            "Epoch 11/40\n",
            "313/313 [==============================] - 4s 12ms/step - loss: 0.8878 - accuracy: 0.6845 - val_loss: 0.8476 - val_accuracy: 0.6998\n",
            "Epoch 12/40\n",
            "313/313 [==============================] - 4s 14ms/step - loss: 0.8576 - accuracy: 0.6954 - val_loss: 0.8237 - val_accuracy: 0.7093\n",
            "Epoch 13/40\n",
            "313/313 [==============================] - 4s 13ms/step - loss: 0.8398 - accuracy: 0.7034 - val_loss: 0.7713 - val_accuracy: 0.7290\n",
            "Epoch 14/40\n",
            "313/313 [==============================] - 5s 15ms/step - loss: 0.8158 - accuracy: 0.7114 - val_loss: 0.8038 - val_accuracy: 0.7125\n",
            "Epoch 15/40\n",
            "313/313 [==============================] - 5s 15ms/step - loss: 0.7994 - accuracy: 0.7157 - val_loss: 0.7644 - val_accuracy: 0.7336\n",
            "Epoch 16/40\n",
            "313/313 [==============================] - 4s 13ms/step - loss: 0.7857 - accuracy: 0.7226 - val_loss: 0.7699 - val_accuracy: 0.7286\n",
            "Epoch 17/40\n",
            "313/313 [==============================] - 4s 13ms/step - loss: 0.7623 - accuracy: 0.7295 - val_loss: 0.7547 - val_accuracy: 0.7365\n",
            "Epoch 18/40\n",
            "313/313 [==============================] - 5s 15ms/step - loss: 0.7519 - accuracy: 0.7307 - val_loss: 0.7064 - val_accuracy: 0.7499\n",
            "Epoch 19/40\n",
            "313/313 [==============================] - 4s 13ms/step - loss: 0.7386 - accuracy: 0.7397 - val_loss: 0.6991 - val_accuracy: 0.7527\n",
            "Epoch 20/40\n",
            "313/313 [==============================] - 4s 13ms/step - loss: 0.7319 - accuracy: 0.7413 - val_loss: 0.7025 - val_accuracy: 0.7481\n",
            "Epoch 21/40\n",
            "313/313 [==============================] - 4s 14ms/step - loss: 0.7162 - accuracy: 0.7479 - val_loss: 0.6892 - val_accuracy: 0.7616\n",
            "Epoch 22/40\n",
            "313/313 [==============================] - 4s 13ms/step - loss: 0.7038 - accuracy: 0.7502 - val_loss: 0.7053 - val_accuracy: 0.7551\n",
            "Epoch 23/40\n",
            "313/313 [==============================] - 4s 13ms/step - loss: 0.6921 - accuracy: 0.7551 - val_loss: 0.6898 - val_accuracy: 0.7583\n",
            "Epoch 24/40\n",
            "313/313 [==============================] - 5s 14ms/step - loss: 0.6855 - accuracy: 0.7613 - val_loss: 0.7137 - val_accuracy: 0.7479\n",
            "Epoch 25/40\n",
            "313/313 [==============================] - 4s 13ms/step - loss: 0.6791 - accuracy: 0.7602 - val_loss: 0.6703 - val_accuracy: 0.7656\n",
            "Epoch 26/40\n",
            "313/313 [==============================] - 4s 14ms/step - loss: 0.6706 - accuracy: 0.7603 - val_loss: 0.6572 - val_accuracy: 0.7671\n",
            "Epoch 27/40\n",
            "313/313 [==============================] - 4s 14ms/step - loss: 0.6632 - accuracy: 0.7662 - val_loss: 0.6654 - val_accuracy: 0.7704\n",
            "Epoch 28/40\n",
            "313/313 [==============================] - 4s 14ms/step - loss: 0.6545 - accuracy: 0.7685 - val_loss: 0.6755 - val_accuracy: 0.7658\n",
            "Epoch 29/40\n",
            "313/313 [==============================] - 4s 14ms/step - loss: 0.6461 - accuracy: 0.7725 - val_loss: 0.6700 - val_accuracy: 0.7714\n",
            "Epoch 30/40\n",
            "313/313 [==============================] - 4s 13ms/step - loss: 0.6417 - accuracy: 0.7753 - val_loss: 0.6723 - val_accuracy: 0.7673\n",
            "Epoch 31/40\n",
            "313/313 [==============================] - 4s 13ms/step - loss: 0.6298 - accuracy: 0.7771 - val_loss: 0.6684 - val_accuracy: 0.7663\n",
            "Epoch 32/40\n",
            "313/313 [==============================] - 4s 14ms/step - loss: 0.6249 - accuracy: 0.7804 - val_loss: 0.6288 - val_accuracy: 0.7828\n",
            "Epoch 33/40\n",
            "313/313 [==============================] - 4s 13ms/step - loss: 0.6182 - accuracy: 0.7807 - val_loss: 0.6543 - val_accuracy: 0.7728\n",
            "Epoch 34/40\n",
            "313/313 [==============================] - 4s 13ms/step - loss: 0.6104 - accuracy: 0.7846 - val_loss: 0.6437 - val_accuracy: 0.7781\n",
            "Epoch 35/40\n",
            "313/313 [==============================] - 5s 15ms/step - loss: 0.6128 - accuracy: 0.7839 - val_loss: 0.6507 - val_accuracy: 0.7748\n",
            "Epoch 36/40\n",
            "313/313 [==============================] - 4s 13ms/step - loss: 0.6007 - accuracy: 0.7880 - val_loss: 0.6641 - val_accuracy: 0.7698\n",
            "Epoch 37/40\n",
            "313/313 [==============================] - 4s 13ms/step - loss: 0.6039 - accuracy: 0.7871 - val_loss: 0.6377 - val_accuracy: 0.7784\n"
          ]
        }
      ]
    },
    {
      "cell_type": "markdown",
      "source": [
        "# 3. Exercise: evaluation on test data\n",
        "You will evaluate the classification of the test data using the common metrics and the confusion matrix in this section. \n",
        "\n",
        "\n",
        "As a first stes, let's run the predictions and convert the predicted softmax outputs to dense labels. The one-hot encoded labels are also converted back to dense labels, as they are required for the evaluation functions."
      ],
      "metadata": {
        "id": "2FtKp-a2-A9m"
      }
    },
    {
      "cell_type": "code",
      "source": [
        "probas = model.predict(X_test)\n",
        "preds  = np.argmax(probas,axis=1)\n",
        "Y_test_dense = np.argmax(Y_test, axis=1) # get the original dense labels of the test data"
      ],
      "metadata": {
        "id": "EcWAqwlDMq3y",
        "outputId": "3a4777f5-930e-4ccb-e9a0-dac2192eeb0f",
        "colab": {
          "base_uri": "https://localhost:8080/"
        }
      },
      "execution_count": 13,
      "outputs": [
        {
          "output_type": "stream",
          "name": "stdout",
          "text": [
            "313/313 [==============================] - 2s 4ms/step\n"
          ]
        }
      ]
    },
    {
      "cell_type": "markdown",
      "source": [
        "## 3.1. Exercise: Metrics\n",
        "please review the common classification metrics (accuracy, precision, recall, F1) for the complete model (not per class). \n",
        "\n",
        "Hints:\n",
        "* use macro averaging\n",
        "* you have to import the right functions from [sklearn.metrics](https://scikit-learn.org/stable/modules/model_evaluation.html)\n"
      ],
      "metadata": {
        "id": "RWJ-PH_iMs9K"
      }
    },
    {
      "cell_type": "code",
      "source": [
        "from sklearn.metrics import f1_score, recall_score, precision_score, accuracy_score "
      ],
      "metadata": {
        "id": "5sKm5zHSMZ_x"
      },
      "execution_count": 15,
      "outputs": []
    },
    {
      "cell_type": "code",
      "source": [
        "print(\"Accuracy:\", accuracy_score(Y_test_dense, preds))\n",
        "print(\"Precision:\",precision_score(Y_test_dense, preds, average='macro'))\n",
        "print(\"Recall:\",recall_score(Y_test_dense, preds, average='macro'))\n",
        "print(\"F1:\",f1_score(Y_test_dense, preds, average='macro')) "
      ],
      "metadata": {
        "id": "I3_9wgDREUna",
        "outputId": "4a54c795-5adf-4f54-a82b-225557ff6099",
        "colab": {
          "base_uri": "https://localhost:8080/"
        }
      },
      "execution_count": 18,
      "outputs": [
        {
          "output_type": "stream",
          "name": "stdout",
          "text": [
            "Accuracy: 0.7786\n",
            "Precision: 0.779046754097413\n",
            "Recall: 0.7786\n",
            "F1: 0.7762466453399306\n"
          ]
        }
      ]
    },
    {
      "cell_type": "markdown",
      "source": [
        "\n",
        "## 3.2. Exercise: Confusion matrix\n",
        "Calculate the confusion matrix and display the results in a heatmap (with decimal values).\n",
        "\n",
        "Hints:\n",
        "* you have to do the imports this time too, e.g. from [sklearn.metrics](https://scikit-learn.org/stable/modules/model_evaluation.html) and the [heatmap function](https://seaborn.pydata.org/generated/seaborn.heatmap.html) of [seaborn](https://seaborn.pydata.org/)\n",
        "* for displaying the decimal values, you have to turn annot=True and define fmt='d' in the heatmap function of seaborn"
      ],
      "metadata": {
        "id": "ECHguBFtGL7f"
      }
    },
    {
      "cell_type": "code",
      "source": [
        "from sklearn.metrics import confusion_matrix\n",
        "import seaborn as sns"
      ],
      "metadata": {
        "id": "SIi2VzMBO3yD"
      },
      "execution_count": 19,
      "outputs": []
    },
    {
      "cell_type": "code",
      "metadata": {
        "id": "cdqODx92Svw7",
        "outputId": "28d1c917-a8ea-49b2-a9ee-8f66ffddcdda",
        "colab": {
          "base_uri": "https://localhost:8080/",
          "height": 610
        }
      },
      "source": [
        "conf = confusion_matrix(Y_test_dense, preds)\n",
        "plt.figure(figsize=(10,10))\n",
        "sns.heatmap(conf, annot=True, fmt='d') "
      ],
      "execution_count": 21,
      "outputs": [
        {
          "output_type": "execute_result",
          "data": {
            "text/plain": [
              "<Axes: >"
            ]
          },
          "metadata": {},
          "execution_count": 21
        },
        {
          "output_type": "display_data",
          "data": {
            "text/plain": [
              "<Figure size 720x720 with 2 Axes>"
            ],
            "image/png": "[encoded data removed]"
          },
          "metadata": {
            "needs_background": "light"
          }
        }
      ]
    },
    {
      "cell_type": "code",
      "source": [],
      "metadata": {
        "id": "6S91SCME9TAL"
      },
      "execution_count": null,
      "outputs": []
    }
  ]
}