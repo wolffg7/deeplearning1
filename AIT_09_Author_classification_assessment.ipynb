{
  "nbformat": 4,
  "nbformat_minor": 0,
  "metadata": {
    "kernelspec": {
      "display_name": "Python 3",
      "language": "python",
      "name": "python3"
    },
    "language_info": {
      "codemirror_mode": {
        "name": "ipython",
        "version": 3
      },
      "file_extension": ".py",
      "mimetype": "text/x-python",
      "name": "python",
      "nbconvert_exporter": "python",
      "pygments_lexer": "ipython3",
      "version": "3.6.6"
    },
    "colab": {
      "provenance": [],
      "include_colab_link": true
    }
  },
  "cells": [
    {
      "cell_type": "markdown",
      "metadata": {
        "id": "view-in-github",
        "colab_type": "text"
      },
      "source": [
        "<a href=\"https://colab.research.google.com/github/wolffg7/deeplearning1/blob/main/AIT_09_Author_classification_assessment.ipynb\" target=\"_parent\"><img src=\"https://colab.research.google.com/assets/colab-badge.svg\" alt=\"Open In Colab\"/></a>"
      ]
    },
    {
      "cell_type": "markdown",
      "metadata": {
        "id": "_jiGtJu6u9ml"
      },
      "source": [
        "# Copyright\n",
        "\n",
        "<PRE>\n",
        "Copyright (c) 2023 Bálint Gyires-Tóth - All Rights Reserved\n",
        "You may use and modify this code for research and development purpuses.\n",
        "Use this code for educational purposes (self-paced or instructor led) without the permission of the author is prohibited.\n",
        "</PRE>"
      ]
    },
    {
      "cell_type": "markdown",
      "metadata": {
        "id": "oXyFC44jV-PP"
      },
      "source": [
        "# Author classification\n",
        "The task is to train a 1D CNN or an LSTM that is able to  classify text from two authors. The final model should be able to tell about a text with a given length (e.g. 60 characters) who wrote it. \n",
        "\n",
        "Please write the codes according to the following parts:"
      ]
    },
    {
      "cell_type": "markdown",
      "metadata": {
        "id": "jCnLoeGrHXsp"
      },
      "source": [
        "## Python module imports\n",
        "Import all Python modules that you would need during the Assignment."
      ]
    },
    {
      "cell_type": "code",
      "metadata": {
        "id": "7itbFGt3HXVT"
      },
      "source": [
        "import numpy as np\n",
        "import pandas as pd\n",
        "import matplotlib.pyplot as plt\n",
        "import seaborn as sns \n",
        "\n",
        "\n",
        "from tensorflow.keras.models import Sequential\n",
        "from tensorflow.keras.layers import Dense, Activation, Dropout\n",
        "from tensorflow.keras.layers import LSTM\n",
        "from tensorflow.keras.optimizers import RMSprop\n",
        "\n",
        "\n",
        "from urllib.request import urlretrieve \n",
        "from collections import Counter \n",
        "\n",
        "from sklearn.model_selection import train_test_split \n",
        "\n",
        "import tensorflow as tf\n",
        "from tensorflow.keras.callbacks import EarlyStopping \n",
        "\n",
        "from sklearn.metrics import confusion_matrix\n",
        "from sklearn.metrics import accuracy_score, precision_score, recall_score, f1_score \n",
        "\n",
        "from sklearn.metrics import confusion_matrix\n",
        "from sklearn.metrics import accuracy_score, precision_score, recall_score, f1_score"
      ],
      "execution_count": 25,
      "outputs": []
    },
    {
      "cell_type": "markdown",
      "metadata": {
        "id": "Hr617tEpHd8R"
      },
      "source": [
        "## Data acquisition\n",
        "Seek a possible dataset, you can use any source, e.g.\n",
        "* http://www.gutenberg.org/\n",
        "* https://www.kaggle.com/datasets\n",
        "* https://paperswithcode.com/datasets\n",
        "* if you would like to learn Hungarian, than e.g. https://mek.oszk.hu/\n",
        "\n",
        "You can download the text by hand (e.g. by copy-pasting some parts into txt files) or with Python. "
      ]
    },
    {
      "cell_type": "code",
      "metadata": {
        "id": "NgkdQxHqHdZB",
        "colab": {
          "base_uri": "https://localhost:8080/"
        },
        "outputId": "1ba06afb-f054-4bcc-846d-fe43c79d441c"
      },
      "source": [
        "urlretrieve(\"https://www.gutenberg.org/cache/epub/70590/pg70590.txt\", 'darkrecess.txt')\n",
        "darkrecess = open(\"darkrecess.txt\", encoding='utf-8').read().lower()\n",
        "\n",
        "urlretrieve(\"https://www.gutenberg.org/cache/epub/70594/pg70594.txt\", 'europe.txt')\n",
        "europe = open(\"europe.txt\", encoding='utf-8').read().lower()\n",
        "\n",
        "print(darkrecess[:100])\n",
        "print(europe[:100]) "
      ],
      "execution_count": 2,
      "outputs": [
        {
          "output_type": "stream",
          "name": "stdout",
          "text": [
            "﻿the project gutenberg ebook of dark recess, by george o. smith\n",
            "\n",
            "this ebook is for the use of anyone\n",
            "﻿the project gutenberg ebook of beautiful europe--the engadine, by\n",
            "spencer musson\n",
            "\n",
            "this ebook is for\n"
          ]
        }
      ]
    },
    {
      "cell_type": "markdown",
      "source": [
        "## Data analysis\n",
        "Count the number of characters from both authors and display them on a plot (e.g. Seaborn's countplot)."
      ],
      "metadata": {
        "id": "U9Pmq91t3SRD"
      }
    },
    {
      "cell_type": "code",
      "source": [
        "dr = Counter(darkrecess)\n",
        "ax = sns.countplot(x=list(dr.elements()))\n",
        "plt.show() "
      ],
      "metadata": {
        "id": "uRqGdn4F3Spk",
        "colab": {
          "base_uri": "https://localhost:8080/",
          "height": 430
        },
        "outputId": "f5109258-4a12-429c-d6c8-0b41f90750a6"
      },
      "execution_count": 3,
      "outputs": [
        {
          "output_type": "display_data",
          "data": {
            "text/plain": [
              "<Figure size 640x480 with 1 Axes>"
            ],
            "image/png": "[encoded data removed]"
          },
          "metadata": {}
        }
      ]
    },
    {
      "cell_type": "code",
      "source": [
        "e = Counter(europe)  \n",
        "ax2 = sns.countplot(x=list(e.elements()))\n",
        "plt.show()"
      ],
      "metadata": {
        "colab": {
          "base_uri": "https://localhost:8080/",
          "height": 435
        },
        "id": "wRVs_R9TYx3U",
        "outputId": "cba87236-8aec-4740-93c5-a18fb0f58920"
      },
      "execution_count": 4,
      "outputs": [
        {
          "output_type": "display_data",
          "data": {
            "text/plain": [
              "<Figure size 640x480 with 1 Axes>"
            ],
            "image/png": "[encoded data removed]"
          },
          "metadata": {}
        }
      ]
    },
    {
      "cell_type": "markdown",
      "metadata": {
        "id": "cHyE_ndGIblJ"
      },
      "source": [
        "## Data loading, labeling and preprocessing\n",
        "Load the data and convert the characters into one-hot encodings. Then load the data into a 3D NumPy array, with a shape of\n",
        "\n",
        "* (batch, sequence_length, alphabet_length)\n",
        "\n",
        "where sequence_length=60, and alphabet_length equals to the number of unique characters in both datasets. The sequences should be cut out from the complete dataset by sliding window. You should add 0 and 1 labels to the sequences, according to the author. \n",
        "\n",
        "Later you may change sequence_length to achieve better results!"
      ]
    },
    {
      "cell_type": "code",
      "source": [
        "sequence_length = 60 \n",
        "\n",
        "darkrecess_chars = list(set(darkrecess))\n",
        "europe_chars = list(set(europe)) \n",
        "\n",
        "all_chars = set(darkrecess_chars) | set(europe_chars)\n",
        "\n",
        "alphabet_length = len(all_chars) \n",
        "\n",
        "import numpy as np\n",
        "from keras.utils import to_categorical\n",
        "\n",
        "char_to_index = {char: index for index, char in enumerate(all_chars)}"
      ],
      "metadata": {
        "id": "eQZXVFDRjlMh"
      },
      "execution_count": 5,
      "outputs": []
    },
    {
      "cell_type": "code",
      "source": [
        "def sequence_to_one_hot(sequence, char_to_index, alphabet_length):\n",
        "    one_hot = np.zeros((len(sequence), alphabet_length))\n",
        "    for i, char in enumerate(sequence):\n",
        "        if char in char_to_index:\n",
        "            index = char_to_index[char]\n",
        "            one_hot[i, index] = 1\n",
        "    return one_hot"
      ],
      "metadata": {
        "id": "chSgEVWsjxep"
      },
      "execution_count": 6,
      "outputs": []
    },
    {
      "cell_type": "code",
      "source": [
        "def generate_data(text, sequence_length, char_to_index, alphabet_length, author):\n",
        "\n",
        "    sentences  = [] \n",
        "    next_chars = []\n",
        "\n",
        "    for i in range(0, len(text)-sequence_length, 10):\n",
        "      sentences.append(text[i:i+sequence_length])\n",
        "      next_chars.append(text[i+sequence_length])\n",
        "\n",
        "    print('Number of training samples:', len(sentences))\n",
        "\n",
        "    X = np.zeros((len(sentences), sequence_length, alphabet_length))\n",
        "    Y = np.zeros(len(sentences))\n",
        "    for i in range(len(sentences)):\n",
        "        sequence = text[i:i+sequence_length]\n",
        "        X[i] = sequence_to_one_hot(sequence, char_to_index, alphabet_length)\n",
        "        Y[i] = 0 if author == \"darkrecess\" else 1\n",
        "    return X, Y"
      ],
      "metadata": {
        "id": "uRrjzx5jj1Iw"
      },
      "execution_count": 7,
      "outputs": []
    },
    {
      "cell_type": "code",
      "source": [
        "X1, Y1 = generate_data(darkrecess, sequence_length, char_to_index, alphabet_length, \"darkrecess\") \n",
        "X_train1, X_test1, Y_train1, Y_test1 = train_test_split(X1, Y1, test_size=0.2, random_state=42)\n",
        "\n",
        "X2, Y2 = generate_data(europe, sequence_length, char_to_index, alphabet_length, \"europe\")\n",
        "X_train2, X_test2, Y_train2, Y_test2 = train_test_split(X2, Y2, test_size=0.2, random_state=42)"
      ],
      "metadata": {
        "colab": {
          "base_uri": "https://localhost:8080/"
        },
        "id": "rdsV6f8KdnFb",
        "outputId": "ad08b25e-a943-4216-ce96-283a6c2dff8a"
      },
      "execution_count": 8,
      "outputs": [
        {
          "output_type": "stream",
          "name": "stdout",
          "text": [
            "Number of training samples: 11483\n",
            "Number of training samples: 9600\n"
          ]
        }
      ]
    },
    {
      "cell_type": "markdown",
      "metadata": {
        "id": "lL1Mc8ibHnep"
      },
      "source": [
        "## Data splitting\n",
        "Split the data into train, validate and test sets. Make "
      ]
    },
    {
      "cell_type": "code",
      "metadata": {
        "id": "ELyG9XFUHrkB"
      },
      "source": [
        "X_train = np.concatenate((X_train1, X_train2))\n",
        "X_test = np.concatenate((X_test1, X_test2))\n",
        "Y_train = np.concatenate((Y_train1, Y_train2))\n",
        "Y_test = np.concatenate((Y_test1, Y_test2))\n",
        "\n",
        "num_train_samples = X_train.shape[0]\n",
        "\n",
        "train_indices = np.random.permutation(num_train_samples)\n",
        "\n",
        "X_train = X_train[train_indices]\n",
        "Y_train = Y_train[train_indices]\n",
        "\n",
        "train_ratio  = 0.8\n",
        "train_length = X_train.shape[0]\n",
        "train_split  = int(train_ratio*train_length)\n",
        "X_valid, Y_valid = X_train[train_split:], Y_train[train_split:]\n",
        "X_train, Y_train = X_train[:train_split], Y_train[:train_split]"
      ],
      "execution_count": 10,
      "outputs": []
    },
    {
      "cell_type": "markdown",
      "metadata": {
        "id": "hA8U9tr7HrNQ"
      },
      "source": [
        "## Model definition\n",
        "Define a 1D CNN or an LSTM for the task. Compile the model with the correct loss function."
      ]
    },
    {
      "cell_type": "code",
      "metadata": {
        "id": "BT1V1s4kHuUe"
      },
      "source": [
        "model = Sequential()\n",
        "model.add(LSTM(128, input_shape=(X_train.shape[-2], X_train.shape[-1]))) \n",
        "model.add(Dense(1, activation ='softmax')) "
      ],
      "execution_count": 18,
      "outputs": []
    },
    {
      "cell_type": "markdown",
      "metadata": {
        "id": "hWFb-nAMHuAI"
      },
      "source": [
        "## Model training\n",
        "Train the model and apply early stopping."
      ]
    },
    {
      "cell_type": "code",
      "metadata": {
        "id": "dvgKjqp3Hwkp"
      },
      "source": [
        "model.compile(optimizer='adam', loss='binary_crossentropy', metrics=['accuracy']) \n",
        "\n",
        "es = tf.keras.callbacks.EarlyStopping(\n",
        "    monitor='val_accuracy',\n",
        "    patience=5,\n",
        "    restore_best_weights=True,\n",
        ")\n"
      ],
      "execution_count": 19,
      "outputs": []
    },
    {
      "cell_type": "code",
      "source": [
        "network_history = model.fit(X_train, Y_train, \n",
        "                            validation_data=(X_valid,Y_valid),\n",
        "                            batch_size=128,                             \n",
        "                            epochs=100, \n",
        "                            verbose=1, \n",
        "                            callbacks=[es])"
      ],
      "metadata": {
        "id": "RmtEKKUYsPxB",
        "outputId": "53ca7ded-f6d6-43d9-8634-b487dc8dc3de",
        "colab": {
          "base_uri": "https://localhost:8080/"
        }
      },
      "execution_count": 20,
      "outputs": [
        {
          "output_type": "stream",
          "name": "stdout",
          "text": [
            "Epoch 1/100\n",
            "106/106 [==============================] - 27s 237ms/step - loss: 0.6382 - accuracy: 0.4578 - val_loss: 0.5292 - val_accuracy: 0.4455\n",
            "Epoch 2/100\n",
            "106/106 [==============================] - 26s 248ms/step - loss: 0.4831 - accuracy: 0.4578 - val_loss: 0.4772 - val_accuracy: 0.4455\n",
            "Epoch 3/100\n",
            "106/106 [==============================] - 25s 232ms/step - loss: 0.4283 - accuracy: 0.4578 - val_loss: 0.3996 - val_accuracy: 0.4455\n",
            "Epoch 4/100\n",
            "106/106 [==============================] - 26s 243ms/step - loss: 0.4042 - accuracy: 0.4578 - val_loss: 0.3811 - val_accuracy: 0.4455\n",
            "Epoch 5/100\n",
            "106/106 [==============================] - 37s 351ms/step - loss: 0.3609 - accuracy: 0.4578 - val_loss: 0.3246 - val_accuracy: 0.4455\n",
            "Epoch 6/100\n",
            "106/106 [==============================] - 23s 213ms/step - loss: 0.2971 - accuracy: 0.4578 - val_loss: 0.2779 - val_accuracy: 0.4455\n"
          ]
        }
      ]
    },
    {
      "cell_type": "markdown",
      "metadata": {
        "id": "0omw2XzSHwOo"
      },
      "source": [
        "## Evaluation on test data\n",
        "Evaluate the model on the test data in terms of loss and accuracy."
      ]
    },
    {
      "cell_type": "code",
      "source": [
        "preds = model.predict(X_test)\n",
        "cm = confusion_matrix(Y_test, np.rint(preds))\n",
        "\n",
        "print(\"Accuracy:\",accuracy_score(Y_test, np.rint(preds)))\n",
        "print(\"Precision:\", precision_score(Y_test, np.rint(preds)))\n",
        "print(\"Recall:\", recall_score(Y_test, np.rint(preds), average='macro'))\n",
        "print(\"F1:\", f1_score(Y_test, np.rint(preds), average='macro'))\n"
      ],
      "metadata": {
        "id": "zOgDBADgsZc7",
        "outputId": "11d24ed0-4a56-4ab4-a000-f0cb8754bd18",
        "colab": {
          "base_uri": "https://localhost:8080/"
        }
      },
      "execution_count": 23,
      "outputs": [
        {
          "output_type": "stream",
          "name": "stdout",
          "text": [
            "132/132 [==============================] - 6s 43ms/step\n",
            "Accuracy: 0.4552999762864596\n",
            "Precision: 0.4552999762864596\n",
            "Recall: 0.5\n",
            "F1: 0.3128564445168649\n"
          ]
        }
      ]
    },
    {
      "cell_type": "markdown",
      "metadata": {
        "id": "4Y73Q-h5Hz1r"
      },
      "source": [
        "## Confusion matrix\n",
        "Calculate and display the confusion matrix."
      ]
    },
    {
      "cell_type": "code",
      "metadata": {
        "id": "cW8zZi1uJm2B",
        "colab": {
          "base_uri": "https://localhost:8080/",
          "height": 448
        },
        "outputId": "55ffde25-17c7-4e69-cb00-fb6eac764bcd"
      },
      "source": [
        "sns.heatmap(cm, annot=True, cmap='Blues', fmt='g')"
      ],
      "execution_count": 24,
      "outputs": [
        {
          "output_type": "execute_result",
          "data": {
            "text/plain": [
              "<Axes: >"
            ]
          },
          "metadata": {},
          "execution_count": 24
        },
        {
          "output_type": "display_data",
          "data": {
            "text/plain": [
              "<Figure size 640x480 with 2 Axes>"
            ],
            "image/png": "[encoded data removed]"
          },
          "metadata": {}
        }
      ]
    }
  ]
}