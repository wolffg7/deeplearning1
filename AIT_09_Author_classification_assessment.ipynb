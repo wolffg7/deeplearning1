{
  "nbformat": 4,
  "nbformat_minor": 0,
  "metadata": {
    "kernelspec": {
      "display_name": "Python 3",
      "language": "python",
      "name": "python3"
    },
    "language_info": {
      "codemirror_mode": {
        "name": "ipython",
        "version": 3
      },
      "file_extension": ".py",
      "mimetype": "text/x-python",
      "name": "python",
      "nbconvert_exporter": "python",
      "pygments_lexer": "ipython3",
      "version": "3.6.6"
    },
    "colab": {
      "provenance": [],
      "include_colab_link": true
    }
  },
  "cells": [
    {
      "cell_type": "markdown",
      "metadata": {
        "id": "view-in-github",
        "colab_type": "text"
      },
      "source": [
        "<a href=\"https://colab.research.google.com/github/wolffg7/deeplearning1/blob/main/AIT_09_Author_classification_assessment.ipynb\" target=\"_parent\"><img src=\"https://colab.research.google.com/assets/colab-badge.svg\" alt=\"Open In Colab\"/></a>"
      ]
    },
    {
      "cell_type": "markdown",
      "metadata": {
        "id": "_jiGtJu6u9ml"
      },
      "source": [
        "# Copyright\n",
        "\n",
        "<PRE>\n",
        "Copyright (c) 2023 Bálint Gyires-Tóth - All Rights Reserved\n",
        "You may use and modify this code for research and development purpuses.\n",
        "Use this code for educational purposes (self-paced or instructor led) without the permission of the author is prohibited.\n",
        "</PRE>"
      ]
    },
    {
      "cell_type": "markdown",
      "metadata": {
        "id": "oXyFC44jV-PP"
      },
      "source": [
        "# Author classification\n",
        "The task is to train a 1D CNN or an LSTM that is able to  classify text from two authors. The final model should be able to tell about a text with a given length (e.g. 60 characters) who wrote it. \n",
        "\n",
        "Please write the codes according to the following parts:"
      ]
    },
    {
      "cell_type": "markdown",
      "metadata": {
        "id": "jCnLoeGrHXsp"
      },
      "source": [
        "## Python module imports\n",
        "Import all Python modules that you would need during the Assignment."
      ]
    },
    {
      "cell_type": "code",
      "metadata": {
        "id": "7itbFGt3HXVT"
      },
      "source": [
        "import numpy as np\n",
        "import pandas as pd\n",
        "import matplotlib.pyplot as plt\n",
        "import seaborn as sns \n",
        "\n",
        "\n",
        "from tensorflow.keras.models import Sequential\n",
        "from tensorflow.keras.layers import Dense, Activation, Dropout\n",
        "from tensorflow.keras.layers import LSTM\n",
        "from tensorflow.keras.optimizers import RMSprop\n",
        "\n",
        "\n",
        "from urllib.request import urlretrieve \n",
        "from collections import Counter \n"
      ],
      "execution_count": 10,
      "outputs": []
    },
    {
      "cell_type": "markdown",
      "metadata": {
        "id": "Hr617tEpHd8R"
      },
      "source": [
        "## Data acquisition\n",
        "Seek a possible dataset, you can use any source, e.g.\n",
        "* http://www.gutenberg.org/\n",
        "* https://www.kaggle.com/datasets\n",
        "* https://paperswithcode.com/datasets\n",
        "* if you would like to learn Hungarian, than e.g. https://mek.oszk.hu/\n",
        "\n",
        "You can download the text by hand (e.g. by copy-pasting some parts into txt files) or with Python. "
      ]
    },
    {
      "cell_type": "code",
      "metadata": {
        "id": "NgkdQxHqHdZB",
        "outputId": "d145a52d-a88f-472b-dc0b-16e8aa95ae5f",
        "colab": {
          "base_uri": "https://localhost:8080/"
        }
      },
      "source": [
        "urlretrieve(\"https://www.gutenberg.org/cache/epub/70590/pg70590.txt\", 'darkrecess.txt')\n",
        "darkrecess = open(\"darkrecess.txt\", encoding='utf-8').read().lower()\n",
        "\n",
        "urlretrieve(\"https://www.gutenberg.org/cache/epub/70594/pg70594.txt\", 'europe.txt')\n",
        "europe = open(\"europe.txt\", encoding='utf-8').read().lower()\n",
        "\n",
        "print(darkrecess[:100])\n",
        "print(europe[:100]) "
      ],
      "execution_count": 21,
      "outputs": [
        {
          "output_type": "stream",
          "name": "stdout",
          "text": [
            "﻿the project gutenberg ebook of dark recess, by george o. smith\n",
            "\n",
            "this ebook is for the use of anyone\n",
            "﻿the project gutenberg ebook of beautiful europe--the engadine, by\n",
            "spencer musson\n",
            "\n",
            "this ebook is for\n"
          ]
        }
      ]
    },
    {
      "cell_type": "markdown",
      "source": [
        "## Data analysis\n",
        "Count the number of characters from both authors and display them on a plot (e.g. Seaborn's countplot)."
      ],
      "metadata": {
        "id": "U9Pmq91t3SRD"
      }
    },
    {
      "cell_type": "code",
      "source": [
        "dr = Counter(darkrecess)\n",
        "ax = sns.countplot(x=list(dr.elements()))\n",
        "plt.show() "
      ],
      "metadata": {
        "id": "uRqGdn4F3Spk",
        "outputId": "494a7eba-d1bd-43de-d0db-8b3604fa3616",
        "colab": {
          "base_uri": "https://localhost:8080/",
          "height": 470
        }
      },
      "execution_count": 13,
      "outputs": [
        {
          "output_type": "execute_result",
          "data": {
            "text/plain": [
              "Text(0.5, 1.0, 'Author 2 characters')"
            ]
          },
          "metadata": {},
          "execution_count": 13
        },
        {
          "output_type": "display_data",
          "data": {
            "text/plain": [
              "<Figure size 640x480 with 1 Axes>"
            ],
            "image/png": "[encoded data removed]"
          },
          "metadata": {}
        }
      ]
    },
    {
      "cell_type": "code",
      "source": [
        "e = Counter(europe)  \n",
        "ax2 = sns.countplot(x=list(e.elements()))\n",
        "plt.show()"
      ],
      "metadata": {
        "id": "wRVs_R9TYx3U",
        "outputId": "1696e000-3184-4320-a201-87b1ca275b06",
        "colab": {
          "base_uri": "https://localhost:8080/",
          "height": 435
        }
      },
      "execution_count": 17,
      "outputs": [
        {
          "output_type": "display_data",
          "data": {
            "text/plain": [
              "<Figure size 640x480 with 1 Axes>"
            ],
            "image/png": "[encoded data removed]"
          },
          "metadata": {}
        }
      ]
    },
    {
      "cell_type": "markdown",
      "metadata": {
        "id": "cHyE_ndGIblJ"
      },
      "source": [
        "## Data loading, labeling and preprocessing\n",
        "Load the data and convert the characters into one-hot encodings. Then load the data into a 3D NumPy array, with a shape of\n",
        "\n",
        "* (batch, sequence_length, alphabet_length)\n",
        "\n",
        "where sequence_length=60, and alphabet_length equals to the number of unique characters in both datasets. The sequences should be cut out from the complete dataset by sliding window. You should add 0 and 1 labels to the sequences, according to the author. \n",
        "\n",
        "Later you may change sequence_length to achieve better results!"
      ]
    },
    {
      "cell_type": "code",
      "source": [
        "sequence_length = 60 \n",
        "\n",
        "darkrecess_chars = list(set(darkrecess))\n",
        "europe_chars = list(set(europe)) \n",
        "\n",
        "all_chars = set(darkrecess_chars) | set(europe_chars)\n",
        "\n",
        "alphabet_length = len(all_chars) \n"
      ],
      "metadata": {
        "colab": {
          "base_uri": "https://localhost:8080/"
        },
        "id": "rdsV6f8KdnFb",
        "outputId": "0ebd3957-36dd-4fa8-8312-403a6b1ee270"
      },
      "execution_count": 29,
      "outputs": [
        {
          "output_type": "stream",
          "name": "stdout",
          "text": [
            "72\n"
          ]
        }
      ]
    },
    {
      "cell_type": "code",
      "metadata": {
        "id": "arooXt0WIb6x"
      },
      "source": [
        "\n",
        "\n",
        "\n",
        "\n",
        "# Convert the characters into one-hot encodings\n",
        "def char_to_onehot(char):\n",
        "    onehot = np.zeros(len(alphabet))\n",
        "    onehot[char_to_index[char]] = 1\n",
        "    return onehot\n",
        "\n",
        "# Create sliding windows of size sequence_length and extract the one-hot encodings and labels\n",
        "data = []\n",
        "for text, label in texts:\n",
        "    for i in range(len(text) - sequence_length):\n",
        "        sequence = text[i:i + sequence_length]\n",
        "        data.append(([char_to_onehot(char) for char in sequence], label))\n",
        "\n",
        "# Shuffle the data\n",
        "np.random.shuffle(data)\n",
        "\n",
        "# Split the data into training and validation sets\n",
        "split = int(0.8 * len(data))\n",
        "train_data = data[:split]\n",
        "val_data = data[split:]\n",
        "\n",
        "# Convert the data into a 3D NumPy array\n",
        "train_X = np.zeros((len(train_data), sequence_length, len(alphabet)))\n",
        "train_Y = np.zeros(len(train_data))\n",
        "val_X = np.zeros((len(val_data), sequence_length, len(alphabet)))\n",
        "val_Y = np.zeros(len(val_data))\n",
        "\n",
        "for i, (sequence, label) in enumerate(train_data):\n",
        "    train_X[i] = sequence\n",
        "    train_Y[i] = label\n",
        "    \n",
        "for i, (sequence, label) in enumerate(val_data):\n",
        "    val_X[i] = sequence\n",
        "    val_Y[i] = label"
      ],
      "execution_count": null,
      "outputs": []
    },
    {
      "cell_type": "markdown",
      "metadata": {
        "id": "lL1Mc8ibHnep"
      },
      "source": [
        "## Data splitting\n",
        "Split the data into train, validate and test sets. Make "
      ]
    },
    {
      "cell_type": "code",
      "metadata": {
        "id": "ELyG9XFUHrkB"
      },
      "source": [],
      "execution_count": null,
      "outputs": []
    },
    {
      "cell_type": "markdown",
      "metadata": {
        "id": "hA8U9tr7HrNQ"
      },
      "source": [
        "## Model definition\n",
        "Define a 1D CNN or an LSTM for the task. Compile the model with the correct loss function."
      ]
    },
    {
      "cell_type": "code",
      "metadata": {
        "id": "BT1V1s4kHuUe"
      },
      "source": [],
      "execution_count": null,
      "outputs": []
    },
    {
      "cell_type": "markdown",
      "metadata": {
        "id": "hWFb-nAMHuAI"
      },
      "source": [
        "## Model training\n",
        "Train the model and apply early stopping."
      ]
    },
    {
      "cell_type": "code",
      "metadata": {
        "id": "dvgKjqp3Hwkp"
      },
      "source": [],
      "execution_count": null,
      "outputs": []
    },
    {
      "cell_type": "markdown",
      "metadata": {
        "id": "0omw2XzSHwOo"
      },
      "source": [
        "## Evaluation on test data\n",
        "Evaluate the model on the test data in terms of loss and accuracy."
      ]
    },
    {
      "cell_type": "code",
      "metadata": {
        "id": "4bF3dQA1Hv_R"
      },
      "source": [],
      "execution_count": null,
      "outputs": []
    },
    {
      "cell_type": "markdown",
      "metadata": {
        "id": "4Y73Q-h5Hz1r"
      },
      "source": [
        "## Confusion matrix\n",
        "Calculate and display the confusion matrix."
      ]
    },
    {
      "cell_type": "code",
      "metadata": {
        "id": "cW8zZi1uJm2B"
      },
      "source": [],
      "execution_count": null,
      "outputs": []
    }
  ]
}